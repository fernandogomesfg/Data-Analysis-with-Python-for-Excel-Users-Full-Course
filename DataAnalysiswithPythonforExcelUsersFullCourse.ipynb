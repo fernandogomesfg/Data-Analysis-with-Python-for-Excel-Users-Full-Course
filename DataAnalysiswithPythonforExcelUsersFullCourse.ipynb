{
  "nbformat": 4,
  "nbformat_minor": 0,
  "metadata": {
    "colab": {
      "provenance": [],
      "authorship_tag": "ABX9TyNrdu+66d6wuMjYG7NW6bKD",
      "include_colab_link": true
    },
    "kernelspec": {
      "name": "python3",
      "display_name": "Python 3"
    },
    "language_info": {
      "name": "python"
    }
  },
  "cells": [
    {
      "cell_type": "markdown",
      "metadata": {
        "id": "view-in-github",
        "colab_type": "text"
      },
      "source": [
        "<a href=\"https://colab.research.google.com/github/fernandogomesfg/Data-Analysis-with-Python-for-Excel-Users-Full-Course/blob/main/DataAnalysiswithPythonforExcelUsersFullCourse.ipynb\" target=\"_parent\"><img src=\"https://colab.research.google.com/assets/colab-badge.svg\" alt=\"Open In Colab\"/></a>"
      ]
    },
    {
      "cell_type": "markdown",
      "source": [
        "#  **1 Hello World**"
      ],
      "metadata": {
        "id": "7h75xtg5LamS"
      }
    },
    {
      "cell_type": "code",
      "execution_count": 2,
      "metadata": {
        "colab": {
          "base_uri": "https://localhost:8080/"
        },
        "id": "6UNZFoQb5Jnq",
        "outputId": "e32aac32-bdba-4182-cf23-61d439ea833c"
      },
      "outputs": [
        {
          "output_type": "stream",
          "name": "stdout",
          "text": [
            "Hello World\n"
          ]
        }
      ],
      "source": [
        "# printing my first message\n",
        "print('Hello World')"
      ]
    },
    {
      "cell_type": "code",
      "source": [
        "'Hello World'"
      ],
      "metadata": {
        "colab": {
          "base_uri": "https://localhost:8080/",
          "height": 35
        },
        "id": "b0QZXaXQLq4S",
        "outputId": "221cf9a8-639a-47e9-9c50-17f55f7c739f"
      },
      "execution_count": 3,
      "outputs": [
        {
          "output_type": "execute_result",
          "data": {
            "text/plain": [
              "'Hello World'"
            ],
            "application/vnd.google.colaboratory.intrinsic+json": {
              "type": "string"
            }
          },
          "metadata": {},
          "execution_count": 3
        }
      ]
    },
    {
      "cell_type": "code",
      "source": [
        "# priting my name\n",
        "print('Fernando')"
      ],
      "metadata": {
        "colab": {
          "base_uri": "https://localhost:8080/"
        },
        "id": "RQrVR3KqLvJ7",
        "outputId": "70e8a423-264a-4e9f-97ed-9c3bfd25d78a"
      },
      "execution_count": 4,
      "outputs": [
        {
          "output_type": "stream",
          "name": "stdout",
          "text": [
            "Fernando\n"
          ]
        }
      ]
    },
    {
      "cell_type": "markdown",
      "source": [
        "# **2 Data Type**"
      ],
      "metadata": {
        "id": "vgWknHSXQvm2"
      }
    },
    {
      "cell_type": "code",
      "source": [
        "type(1)"
      ],
      "metadata": {
        "colab": {
          "base_uri": "https://localhost:8080/"
        },
        "id": "1Oz5xf-jQ_4w",
        "outputId": "24039423-505f-4ddd-87fe-9c020ba0300d"
      },
      "execution_count": 5,
      "outputs": [
        {
          "output_type": "execute_result",
          "data": {
            "text/plain": [
              "int"
            ]
          },
          "metadata": {},
          "execution_count": 5
        }
      ]
    },
    {
      "cell_type": "code",
      "source": [
        "type(2.4)"
      ],
      "metadata": {
        "colab": {
          "base_uri": "https://localhost:8080/"
        },
        "id": "1lcJeZseRYbE",
        "outputId": "9583d682-365a-469a-d70b-b16948f17b72"
      },
      "execution_count": 6,
      "outputs": [
        {
          "output_type": "execute_result",
          "data": {
            "text/plain": [
              "float"
            ]
          },
          "metadata": {},
          "execution_count": 6
        }
      ]
    },
    {
      "cell_type": "code",
      "source": [
        "1 + 2"
      ],
      "metadata": {
        "colab": {
          "base_uri": "https://localhost:8080/"
        },
        "id": "IH_KyYerRdvZ",
        "outputId": "abfdd592-4cf3-4444-b225-b34f334495d2"
      },
      "execution_count": 7,
      "outputs": [
        {
          "output_type": "execute_result",
          "data": {
            "text/plain": [
              "3"
            ]
          },
          "metadata": {},
          "execution_count": 7
        }
      ]
    },
    {
      "cell_type": "code",
      "source": [
        "4 - 3"
      ],
      "metadata": {
        "colab": {
          "base_uri": "https://localhost:8080/"
        },
        "id": "4k8_IJdwRh_m",
        "outputId": "f2a6c5db-27ae-4365-a3ce-8d1ad93c4984"
      },
      "execution_count": 8,
      "outputs": [
        {
          "output_type": "execute_result",
          "data": {
            "text/plain": [
              "1"
            ]
          },
          "metadata": {},
          "execution_count": 8
        }
      ]
    },
    {
      "cell_type": "code",
      "source": [
        "type(True)"
      ],
      "metadata": {
        "colab": {
          "base_uri": "https://localhost:8080/"
        },
        "id": "bkGqdvotSQ53",
        "outputId": "af2976b8-fb58-4d19-cea2-900bc518446f"
      },
      "execution_count": 9,
      "outputs": [
        {
          "output_type": "execute_result",
          "data": {
            "text/plain": [
              "bool"
            ]
          },
          "metadata": {},
          "execution_count": 9
        }
      ]
    },
    {
      "cell_type": "code",
      "source": [
        "print(\"Hello World\".upper())  # Converte a string 'Hello World' em letras maiúsculas\n",
        "print(\"Hello World\".lower())  # Converte a string 'Hello World' em letras minúsculas\n",
        "print(\"Hello World\".title())  # Converte a string 'Hello World' de título' para título"
      ],
      "metadata": {
        "colab": {
          "base_uri": "https://localhost:8080/"
        },
        "id": "oeqjFxwlSW9D",
        "outputId": "ba2b1c9d-dce2-4310-8ff7-b3510fd4fe80"
      },
      "execution_count": 18,
      "outputs": [
        {
          "output_type": "stream",
          "name": "stdout",
          "text": [
            "HELLO WORLD\n",
            "hello world\n",
            "Hello World\n"
          ]
        }
      ]
    },
    {
      "cell_type": "code",
      "source": [
        "# O método Python replace é usado para substituir trechos de uma string por uma ou mais vezes\n",
        "'Hello World'.replace('o', 'u')"
      ],
      "metadata": {
        "colab": {
          "base_uri": "https://localhost:8080/",
          "height": 35
        },
        "id": "LOJ0QNbcS4cF",
        "outputId": "002ebecc-6560-447e-bbe2-2fcc0d5a6094"
      },
      "execution_count": 19,
      "outputs": [
        {
          "output_type": "execute_result",
          "data": {
            "text/plain": [
              "'Hellu Wurld'"
            ],
            "application/vnd.google.colaboratory.intrinsic+json": {
              "type": "string"
            }
          },
          "metadata": {},
          "execution_count": 19
        }
      ]
    },
    {
      "cell_type": "markdown",
      "source": [
        "# **3 Variables**"
      ],
      "metadata": {
        "id": "cnl231aKXlsW"
      }
    },
    {
      "cell_type": "code",
      "source": [
        "message_1 = \"I'm learning Python\"\n",
        "message_1"
      ],
      "metadata": {
        "colab": {
          "base_uri": "https://localhost:8080/",
          "height": 35
        },
        "id": "fTK0X8V9Xohm",
        "outputId": "aef67af6-e155-4051-ffeb-9cafc889b093"
      },
      "execution_count": 21,
      "outputs": [
        {
          "output_type": "execute_result",
          "data": {
            "text/plain": [
              "\"I'm learning Python\""
            ],
            "application/vnd.google.colaboratory.intrinsic+json": {
              "type": "string"
            }
          },
          "metadata": {},
          "execution_count": 21
        }
      ]
    },
    {
      "cell_type": "code",
      "source": [
        "message_2 = \"and it's fun\"\n",
        "message_2"
      ],
      "metadata": {
        "colab": {
          "base_uri": "https://localhost:8080/",
          "height": 35
        },
        "id": "SeSfRYMNatCn",
        "outputId": "a1a05d1f-6d8b-48b7-f227-3b4bb467b128"
      },
      "execution_count": 23,
      "outputs": [
        {
          "output_type": "execute_result",
          "data": {
            "text/plain": [
              "\"and it's fun\""
            ],
            "application/vnd.google.colaboratory.intrinsic+json": {
              "type": "string"
            }
          },
          "metadata": {},
          "execution_count": 23
        }
      ]
    },
    {
      "cell_type": "code",
      "source": [
        "message_1 + message_2"
      ],
      "metadata": {
        "colab": {
          "base_uri": "https://localhost:8080/",
          "height": 35
        },
        "id": "XfYjLQFia3qH",
        "outputId": "cfbcbba5-4612-4c57-8e30-719fbc35ab9e"
      },
      "execution_count": 24,
      "outputs": [
        {
          "output_type": "execute_result",
          "data": {
            "text/plain": [
              "\"I'm learning Pythonand it's fun\""
            ],
            "application/vnd.google.colaboratory.intrinsic+json": {
              "type": "string"
            }
          },
          "metadata": {},
          "execution_count": 24
        }
      ]
    },
    {
      "cell_type": "code",
      "source": [
        "message_1 + ' ' + message_2"
      ],
      "metadata": {
        "colab": {
          "base_uri": "https://localhost:8080/",
          "height": 35
        },
        "id": "ezx-fv8VbClc",
        "outputId": "f64dd4c1-15ac-4b85-8beb-03ce2ac38af2"
      },
      "execution_count": 25,
      "outputs": [
        {
          "output_type": "execute_result",
          "data": {
            "text/plain": [
              "\"I'm learning Python and it's fun\""
            ],
            "application/vnd.google.colaboratory.intrinsic+json": {
              "type": "string"
            }
          },
          "metadata": {},
          "execution_count": 25
        }
      ]
    },
    {
      "cell_type": "markdown",
      "source": [
        "## F-strings"
      ],
      "metadata": {
        "id": "PNKbIOKxcQwO"
      }
    },
    {
      "cell_type": "markdown",
      "source": [
        "As F-strings são uma forma conveniente de formatar strings em Python a partir da versão 3.6. Elas permitem que você insira valores de variáveis diretamente em uma string, colocando a variável entre chaves \"{}\" e precedendo a string com a letra \"f\".  Por exemplo:\n",
        "\n",
        "```\n",
        "nome = 'João'\n",
        "idade = 27\n",
        "print(f'O nome é {nome} e a idade é {idade}.')\n",
        "```\n",
        "\n",
        "O resultado seria a string formatada com os valores das variáveis:\n",
        "\n",
        "\n",
        "```\n",
        "O nome é João e a idade é 27.\n",
        "```"
      ],
      "metadata": {
        "id": "eXnhVVRqbngL"
      }
    },
    {
      "cell_type": "code",
      "source": [
        "f'{message_1} {message_2}'"
      ],
      "metadata": {
        "colab": {
          "base_uri": "https://localhost:8080/",
          "height": 35
        },
        "id": "XatT4d_0bJ6-",
        "outputId": "03e7eefc-f437-4efd-97cd-7e07f7448ca4"
      },
      "execution_count": 30,
      "outputs": [
        {
          "output_type": "execute_result",
          "data": {
            "text/plain": [
              "\"I'm learning Python and it's fun\""
            ],
            "application/vnd.google.colaboratory.intrinsic+json": {
              "type": "string"
            }
          },
          "metadata": {},
          "execution_count": 30
        }
      ]
    },
    {
      "cell_type": "markdown",
      "source": [
        "# **4 Lists**"
      ],
      "metadata": {
        "id": "Ipla6OItdlda"
      }
    },
    {
      "cell_type": "code",
      "source": [
        "countries = ['Mozambique', 'United States', 'India', 'China']\n",
        "countries"
      ],
      "metadata": {
        "colab": {
          "base_uri": "https://localhost:8080/"
        },
        "id": "EvxXxHnOdrw4",
        "outputId": "5e6e417a-1611-47ea-b782-2285b2c6be0a"
      },
      "execution_count": 31,
      "outputs": [
        {
          "output_type": "execute_result",
          "data": {
            "text/plain": [
              "['Mozambique', 'United States', 'India', 'China']"
            ]
          },
          "metadata": {},
          "execution_count": 31
        }
      ]
    },
    {
      "cell_type": "code",
      "source": [
        "# Obter um elemento em uma determinada posicao atraves de seu indice\n",
        "countries[0]"
      ],
      "metadata": {
        "colab": {
          "base_uri": "https://localhost:8080/",
          "height": 35
        },
        "id": "6H99gZx8gvUS",
        "outputId": "75a98f9e-ba88-443e-8a3c-2fb43a9834f5"
      },
      "execution_count": 33,
      "outputs": [
        {
          "output_type": "execute_result",
          "data": {
            "text/plain": [
              "'Mozambique'"
            ],
            "application/vnd.google.colaboratory.intrinsic+json": {
              "type": "string"
            }
          },
          "metadata": {},
          "execution_count": 33
        }
      ]
    },
    {
      "cell_type": "code",
      "source": [
        "# Obter o ultimo elemento da lista\n",
        "countries[-1]"
      ],
      "metadata": {
        "colab": {
          "base_uri": "https://localhost:8080/",
          "height": 35
        },
        "id": "J1LBTRTjhBwm",
        "outputId": "ffa87aa8-e0f6-4803-c83f-65379a77c885"
      },
      "execution_count": 34,
      "outputs": [
        {
          "output_type": "execute_result",
          "data": {
            "text/plain": [
              "'China'"
            ],
            "application/vnd.google.colaboratory.intrinsic+json": {
              "type": "string"
            }
          },
          "metadata": {},
          "execution_count": 34
        }
      ]
    },
    {
      "cell_type": "markdown",
      "source": [
        "## Slicing\n",
        "\n",
        "> Slicing em Python é uma técnica usada para acessar uma parte específica de uma sequência (como uma lista, tupla ou string) especificando um intervalo de índices. A sintaxe geral é [start:stop:step], onde start é o índice de início, stop é o índice de parada e step é o tamanho do passo. Por exemplo, a expressão my_list[2:5] retornaria os elementos da lista my_list a partir do índice 2 até o índice 4. É importante observar que o índice de parada não é incluído na seleção. Se o valor de start ou stop for omitido, eles serão considerados como 0 e o comprimento da sequência, respectivamente. Se o valor de step for omitido, ele será considerado como 1.\n",
        "\n"
      ],
      "metadata": {
        "id": "Ohcmrqr3hNvH"
      }
    },
    {
      "cell_type": "code",
      "source": [
        "countries[0:3]"
      ],
      "metadata": {
        "colab": {
          "base_uri": "https://localhost:8080/"
        },
        "id": "cebyhxbihL0G",
        "outputId": "4ca7f67d-1f06-482f-c7d7-7efaa3da55c2"
      },
      "execution_count": 35,
      "outputs": [
        {
          "output_type": "execute_result",
          "data": {
            "text/plain": [
              "['Mozambique', 'United States', 'India']"
            ]
          },
          "metadata": {},
          "execution_count": 35
        }
      ]
    },
    {
      "cell_type": "code",
      "source": [
        "countries[0:1]"
      ],
      "metadata": {
        "colab": {
          "base_uri": "https://localhost:8080/"
        },
        "id": "5dz2kWaokQCp",
        "outputId": "a59f18fa-fbd9-41ce-83e4-dfa1c2969b32"
      },
      "execution_count": 36,
      "outputs": [
        {
          "output_type": "execute_result",
          "data": {
            "text/plain": [
              "['Mozambique']"
            ]
          },
          "metadata": {},
          "execution_count": 36
        }
      ]
    },
    {
      "cell_type": "code",
      "source": [
        "countries[1:]"
      ],
      "metadata": {
        "colab": {
          "base_uri": "https://localhost:8080/"
        },
        "id": "NelU9v5VkTBb",
        "outputId": "676f68ca-6fe0-4158-af76-55f437c15c08"
      },
      "execution_count": 37,
      "outputs": [
        {
          "output_type": "execute_result",
          "data": {
            "text/plain": [
              "['United States', 'India', 'China']"
            ]
          },
          "metadata": {},
          "execution_count": 37
        }
      ]
    },
    {
      "cell_type": "code",
      "source": [
        "countries[:2]"
      ],
      "metadata": {
        "colab": {
          "base_uri": "https://localhost:8080/"
        },
        "id": "OC_s_iTqkYZP",
        "outputId": "ce29cc21-7e82-4271-ed02-66e37feb4e62"
      },
      "execution_count": 38,
      "outputs": [
        {
          "output_type": "execute_result",
          "data": {
            "text/plain": [
              "['Mozambique', 'United States']"
            ]
          },
          "metadata": {},
          "execution_count": 38
        }
      ]
    },
    {
      "cell_type": "markdown",
      "source": [
        "## Adding elements to a list"
      ],
      "metadata": {
        "id": "nciuQngG4iy8"
      }
    },
    {
      "cell_type": "code",
      "source": [
        "countries"
      ],
      "metadata": {
        "colab": {
          "base_uri": "https://localhost:8080/"
        },
        "id": "2_yyecrl4ssn",
        "outputId": "8e73081e-7738-46db-db30-bd7d543598f1"
      },
      "execution_count": 39,
      "outputs": [
        {
          "output_type": "execute_result",
          "data": {
            "text/plain": [
              "['Mozambique', 'United States', 'India', 'China']"
            ]
          },
          "metadata": {},
          "execution_count": 39
        }
      ]
    },
    {
      "cell_type": "code",
      "source": [
        "countries.append('Canada')\n",
        "countries"
      ],
      "metadata": {
        "colab": {
          "base_uri": "https://localhost:8080/"
        },
        "id": "twy40yq34wb6",
        "outputId": "03ac8b3f-d482-4ab4-a1a1-ffc821c7c519"
      },
      "execution_count": 41,
      "outputs": [
        {
          "output_type": "execute_result",
          "data": {
            "text/plain": [
              "['Mozambique', 'United States', 'India', 'China', 'Canada', 'Canada']"
            ]
          },
          "metadata": {},
          "execution_count": 41
        }
      ]
    },
    {
      "cell_type": "code",
      "source": [
        "countries.insert(0, 'Spain')\n",
        "countries"
      ],
      "metadata": {
        "colab": {
          "base_uri": "https://localhost:8080/"
        },
        "id": "4iQtzjGl433T",
        "outputId": "baaa7995-bd69-47af-8643-304d91cc5c79"
      },
      "execution_count": 43,
      "outputs": [
        {
          "output_type": "execute_result",
          "data": {
            "text/plain": [
              "['Spain',\n",
              " 'Spain',\n",
              " 'Mozambique',\n",
              " 'United States',\n",
              " 'India',\n",
              " 'China',\n",
              " 'Canada',\n",
              " 'Canada']"
            ]
          },
          "metadata": {},
          "execution_count": 43
        }
      ]
    },
    {
      "cell_type": "code",
      "source": [
        "countries_2 = ['UK', 'South Africa']\n",
        "countries + countries_2"
      ],
      "metadata": {
        "colab": {
          "base_uri": "https://localhost:8080/"
        },
        "id": "PI6NcVIz5ALD",
        "outputId": "d0b17dfe-8e06-4a1f-f68f-0742965b2eb7"
      },
      "execution_count": 45,
      "outputs": [
        {
          "output_type": "execute_result",
          "data": {
            "text/plain": [
              "['Spain',\n",
              " 'Spain',\n",
              " 'Mozambique',\n",
              " 'United States',\n",
              " 'India',\n",
              " 'China',\n",
              " 'Canada',\n",
              " 'Canada',\n",
              " 'UK',\n",
              " 'South Africa']"
            ]
          },
          "metadata": {},
          "execution_count": 45
        }
      ]
    },
    {
      "cell_type": "markdown",
      "source": [
        "# **Function**"
      ],
      "metadata": {
        "id": "u8PS1Ne186eG"
      }
    },
    {
      "cell_type": "code",
      "source": [
        "def soma(a, b):\n",
        "  x = a + b\n",
        "  return x\n",
        "\n",
        "soma(1,6)"
      ],
      "metadata": {
        "colab": {
          "base_uri": "https://localhost:8080/"
        },
        "id": "2J_o-_Mw9JSC",
        "outputId": "9d6a99dd-bdc5-49c8-e874-599ac80a0627"
      },
      "execution_count": 51,
      "outputs": [
        {
          "output_type": "execute_result",
          "data": {
            "text/plain": [
              "7"
            ]
          },
          "metadata": {},
          "execution_count": 51
        }
      ]
    },
    {
      "cell_type": "markdown",
      "source": [
        "# Modules"
      ],
      "metadata": {
        "id": "pxS_UazcGhOq"
      }
    },
    {
      "cell_type": "code",
      "source": [
        "import os\n",
        "\n",
        "os.getcwd() # metodo para verificar o directorio do arquivo"
      ],
      "metadata": {
        "colab": {
          "base_uri": "https://localhost:8080/",
          "height": 35
        },
        "id": "p8Wcy3eqGkNY",
        "outputId": "46e779e4-3800-43bb-bc15-8fbf56068323"
      },
      "execution_count": 53,
      "outputs": [
        {
          "output_type": "execute_result",
          "data": {
            "text/plain": [
              "'/content'"
            ],
            "application/vnd.google.colaboratory.intrinsic+json": {
              "type": "string"
            }
          },
          "metadata": {},
          "execution_count": 53
        }
      ]
    },
    {
      "cell_type": "code",
      "source": [
        "os.listdir()  # lista todos arquivos presentes nesse diretorio"
      ],
      "metadata": {
        "colab": {
          "base_uri": "https://localhost:8080/"
        },
        "id": "ATLruC2eI6iX",
        "outputId": "8a0f4f64-69d1-403f-90ed-ce1f2285de9e"
      },
      "execution_count": 54,
      "outputs": [
        {
          "output_type": "execute_result",
          "data": {
            "text/plain": [
              "['.config', 'sample_data']"
            ]
          },
          "metadata": {},
          "execution_count": 54
        }
      ]
    },
    {
      "cell_type": "code",
      "source": [
        "os.makedirs(\"Nova pasta\") # cria uma nova pasta no diretorio actual"
      ],
      "metadata": {
        "id": "Dewi35MgJeuu"
      },
      "execution_count": 55,
      "outputs": []
    },
    {
      "cell_type": "code",
      "source": [
        "os.listdir()"
      ],
      "metadata": {
        "colab": {
          "base_uri": "https://localhost:8080/"
        },
        "id": "w4cFmq-BJtm-",
        "outputId": "e34c929c-1868-4e97-d718-27b1461bc358"
      },
      "execution_count": 56,
      "outputs": [
        {
          "output_type": "execute_result",
          "data": {
            "text/plain": [
              "['.config', 'Nova pasta', 'sample_data']"
            ]
          },
          "metadata": {},
          "execution_count": 56
        }
      ]
    }
  ]
}