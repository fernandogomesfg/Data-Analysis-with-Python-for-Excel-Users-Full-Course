{
  "nbformat": 4,
  "nbformat_minor": 0,
  "metadata": {
    "colab": {
      "provenance": [],
      "authorship_tag": "ABX9TyM5+XKBsD8WY29Z0HmL3+vM",
      "include_colab_link": true
    },
    "kernelspec": {
      "name": "python3",
      "display_name": "Python 3"
    },
    "language_info": {
      "name": "python"
    }
  },
  "cells": [
    {
      "cell_type": "markdown",
      "metadata": {
        "id": "view-in-github",
        "colab_type": "text"
      },
      "source": [
        "<a href=\"https://colab.research.google.com/github/fernandogomesfg/Data-Analysis-with-Python-for-Excel-Users-Full-Course/blob/main/DataAnalysiswithPythonforExcelUsersFullCourse.ipynb\" target=\"_parent\"><img src=\"https://colab.research.google.com/assets/colab-badge.svg\" alt=\"Open In Colab\"/></a>"
      ]
    },
    {
      "cell_type": "markdown",
      "source": [
        "#  **1 Hello World**"
      ],
      "metadata": {
        "id": "7h75xtg5LamS"
      }
    },
    {
      "cell_type": "code",
      "execution_count": 2,
      "metadata": {
        "colab": {
          "base_uri": "https://localhost:8080/"
        },
        "id": "6UNZFoQb5Jnq",
        "outputId": "e32aac32-bdba-4182-cf23-61d439ea833c"
      },
      "outputs": [
        {
          "output_type": "stream",
          "name": "stdout",
          "text": [
            "Hello World\n"
          ]
        }
      ],
      "source": [
        "# printing my first message\n",
        "print('Hello World')"
      ]
    },
    {
      "cell_type": "code",
      "source": [
        "'Hello World'"
      ],
      "metadata": {
        "colab": {
          "base_uri": "https://localhost:8080/",
          "height": 35
        },
        "id": "b0QZXaXQLq4S",
        "outputId": "221cf9a8-639a-47e9-9c50-17f55f7c739f"
      },
      "execution_count": 3,
      "outputs": [
        {
          "output_type": "execute_result",
          "data": {
            "text/plain": [
              "'Hello World'"
            ],
            "application/vnd.google.colaboratory.intrinsic+json": {
              "type": "string"
            }
          },
          "metadata": {},
          "execution_count": 3
        }
      ]
    },
    {
      "cell_type": "code",
      "source": [
        "# priting my name\n",
        "print('Fernando')"
      ],
      "metadata": {
        "colab": {
          "base_uri": "https://localhost:8080/"
        },
        "id": "RQrVR3KqLvJ7",
        "outputId": "70e8a423-264a-4e9f-97ed-9c3bfd25d78a"
      },
      "execution_count": 4,
      "outputs": [
        {
          "output_type": "stream",
          "name": "stdout",
          "text": [
            "Fernando\n"
          ]
        }
      ]
    },
    {
      "cell_type": "markdown",
      "source": [
        "# **2 Data Type**"
      ],
      "metadata": {
        "id": "vgWknHSXQvm2"
      }
    },
    {
      "cell_type": "code",
      "source": [
        "type(1)"
      ],
      "metadata": {
        "colab": {
          "base_uri": "https://localhost:8080/"
        },
        "id": "1Oz5xf-jQ_4w",
        "outputId": "24039423-505f-4ddd-87fe-9c020ba0300d"
      },
      "execution_count": 5,
      "outputs": [
        {
          "output_type": "execute_result",
          "data": {
            "text/plain": [
              "int"
            ]
          },
          "metadata": {},
          "execution_count": 5
        }
      ]
    },
    {
      "cell_type": "code",
      "source": [
        "type(2.4)"
      ],
      "metadata": {
        "colab": {
          "base_uri": "https://localhost:8080/"
        },
        "id": "1lcJeZseRYbE",
        "outputId": "9583d682-365a-469a-d70b-b16948f17b72"
      },
      "execution_count": 6,
      "outputs": [
        {
          "output_type": "execute_result",
          "data": {
            "text/plain": [
              "float"
            ]
          },
          "metadata": {},
          "execution_count": 6
        }
      ]
    },
    {
      "cell_type": "code",
      "source": [
        "1 + 2"
      ],
      "metadata": {
        "colab": {
          "base_uri": "https://localhost:8080/"
        },
        "id": "IH_KyYerRdvZ",
        "outputId": "abfdd592-4cf3-4444-b225-b34f334495d2"
      },
      "execution_count": 7,
      "outputs": [
        {
          "output_type": "execute_result",
          "data": {
            "text/plain": [
              "3"
            ]
          },
          "metadata": {},
          "execution_count": 7
        }
      ]
    },
    {
      "cell_type": "code",
      "source": [
        "4 - 3"
      ],
      "metadata": {
        "colab": {
          "base_uri": "https://localhost:8080/"
        },
        "id": "4k8_IJdwRh_m",
        "outputId": "f2a6c5db-27ae-4365-a3ce-8d1ad93c4984"
      },
      "execution_count": 8,
      "outputs": [
        {
          "output_type": "execute_result",
          "data": {
            "text/plain": [
              "1"
            ]
          },
          "metadata": {},
          "execution_count": 8
        }
      ]
    },
    {
      "cell_type": "code",
      "source": [
        "type(True)"
      ],
      "metadata": {
        "colab": {
          "base_uri": "https://localhost:8080/"
        },
        "id": "bkGqdvotSQ53",
        "outputId": "af2976b8-fb58-4d19-cea2-900bc518446f"
      },
      "execution_count": 9,
      "outputs": [
        {
          "output_type": "execute_result",
          "data": {
            "text/plain": [
              "bool"
            ]
          },
          "metadata": {},
          "execution_count": 9
        }
      ]
    },
    {
      "cell_type": "code",
      "source": [
        "print(\"Hello World\".upper())  # Converte a string 'Hello World' em letras maiúsculas\n",
        "print(\"Hello World\".lower())  # Converte a string 'Hello World' em letras minúsculas\n",
        "print(\"Hello World\".title())  # Converte a string 'Hello World' de título' para título"
      ],
      "metadata": {
        "colab": {
          "base_uri": "https://localhost:8080/"
        },
        "id": "oeqjFxwlSW9D",
        "outputId": "ba2b1c9d-dce2-4310-8ff7-b3510fd4fe80"
      },
      "execution_count": 18,
      "outputs": [
        {
          "output_type": "stream",
          "name": "stdout",
          "text": [
            "HELLO WORLD\n",
            "hello world\n",
            "Hello World\n"
          ]
        }
      ]
    },
    {
      "cell_type": "code",
      "source": [
        "# O método Python replace é usado para substituir trechos de uma string por uma ou mais vezes\n",
        "'Hello World'.replace('o', 'u')"
      ],
      "metadata": {
        "colab": {
          "base_uri": "https://localhost:8080/",
          "height": 35
        },
        "id": "LOJ0QNbcS4cF",
        "outputId": "002ebecc-6560-447e-bbe2-2fcc0d5a6094"
      },
      "execution_count": 19,
      "outputs": [
        {
          "output_type": "execute_result",
          "data": {
            "text/plain": [
              "'Hellu Wurld'"
            ],
            "application/vnd.google.colaboratory.intrinsic+json": {
              "type": "string"
            }
          },
          "metadata": {},
          "execution_count": 19
        }
      ]
    },
    {
      "cell_type": "markdown",
      "source": [
        "# **Variables**"
      ],
      "metadata": {
        "id": "cnl231aKXlsW"
      }
    },
    {
      "cell_type": "code",
      "source": [
        "message_1 = \"I'm learning Python\"\n",
        "message_1"
      ],
      "metadata": {
        "colab": {
          "base_uri": "https://localhost:8080/",
          "height": 35
        },
        "id": "fTK0X8V9Xohm",
        "outputId": "aef67af6-e155-4051-ffeb-9cafc889b093"
      },
      "execution_count": 21,
      "outputs": [
        {
          "output_type": "execute_result",
          "data": {
            "text/plain": [
              "\"I'm learning Python\""
            ],
            "application/vnd.google.colaboratory.intrinsic+json": {
              "type": "string"
            }
          },
          "metadata": {},
          "execution_count": 21
        }
      ]
    },
    {
      "cell_type": "code",
      "source": [
        "message_2 = \"and it's fun\"\n",
        "message_2"
      ],
      "metadata": {
        "colab": {
          "base_uri": "https://localhost:8080/",
          "height": 35
        },
        "id": "SeSfRYMNatCn",
        "outputId": "a1a05d1f-6d8b-48b7-f227-3b4bb467b128"
      },
      "execution_count": 23,
      "outputs": [
        {
          "output_type": "execute_result",
          "data": {
            "text/plain": [
              "\"and it's fun\""
            ],
            "application/vnd.google.colaboratory.intrinsic+json": {
              "type": "string"
            }
          },
          "metadata": {},
          "execution_count": 23
        }
      ]
    },
    {
      "cell_type": "code",
      "source": [
        "message_1 + message_2"
      ],
      "metadata": {
        "colab": {
          "base_uri": "https://localhost:8080/",
          "height": 35
        },
        "id": "XfYjLQFia3qH",
        "outputId": "cfbcbba5-4612-4c57-8e30-719fbc35ab9e"
      },
      "execution_count": 24,
      "outputs": [
        {
          "output_type": "execute_result",
          "data": {
            "text/plain": [
              "\"I'm learning Pythonand it's fun\""
            ],
            "application/vnd.google.colaboratory.intrinsic+json": {
              "type": "string"
            }
          },
          "metadata": {},
          "execution_count": 24
        }
      ]
    },
    {
      "cell_type": "code",
      "source": [
        "message_1 + ' ' + message_2"
      ],
      "metadata": {
        "colab": {
          "base_uri": "https://localhost:8080/",
          "height": 35
        },
        "id": "ezx-fv8VbClc",
        "outputId": "f64dd4c1-15ac-4b85-8beb-03ce2ac38af2"
      },
      "execution_count": 25,
      "outputs": [
        {
          "output_type": "execute_result",
          "data": {
            "text/plain": [
              "\"I'm learning Python and it's fun\""
            ],
            "application/vnd.google.colaboratory.intrinsic+json": {
              "type": "string"
            }
          },
          "metadata": {},
          "execution_count": 25
        }
      ]
    },
    {
      "cell_type": "markdown",
      "source": [
        "## F-strings"
      ],
      "metadata": {
        "id": "PNKbIOKxcQwO"
      }
    },
    {
      "cell_type": "markdown",
      "source": [
        "As F-strings são uma forma conveniente de formatar strings em Python a partir da versão 3.6. Elas permitem que você insira valores de variáveis diretamente em uma string, colocando a variável entre chaves \"{}\" e precedendo a string com a letra \"f\".  Por exemplo:\n",
        "\n",
        "```\n",
        "nome = 'João'\n",
        "idade = 27\n",
        "print(f'O nome é {nome} e a idade é {idade}.')\n",
        "```\n",
        "\n",
        "O resultado seria a string formatada com os valores das variáveis:\n",
        "\n",
        "\n",
        "```\n",
        "O nome é João e a idade é 27.\n",
        "```"
      ],
      "metadata": {
        "id": "eXnhVVRqbngL"
      }
    },
    {
      "cell_type": "code",
      "source": [
        "f'{message_1} {message_2}'"
      ],
      "metadata": {
        "colab": {
          "base_uri": "https://localhost:8080/",
          "height": 35
        },
        "id": "XatT4d_0bJ6-",
        "outputId": "03e7eefc-f437-4efd-97cd-7e07f7448ca4"
      },
      "execution_count": 30,
      "outputs": [
        {
          "output_type": "execute_result",
          "data": {
            "text/plain": [
              "\"I'm learning Python and it's fun\""
            ],
            "application/vnd.google.colaboratory.intrinsic+json": {
              "type": "string"
            }
          },
          "metadata": {},
          "execution_count": 30
        }
      ]
    }
  ]
}